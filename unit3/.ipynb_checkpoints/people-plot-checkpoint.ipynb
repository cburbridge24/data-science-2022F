{
 "cells": [
  {
   "cell_type": "code",
   "execution_count": 5,
   "id": "f16ea64c",
   "metadata": {},
   "outputs": [],
   "source": [
    "#from shutil import copyfile\n",
    "#copyfile('../unit2/people.csv', 'people.csv')"
   ]
  },
  {
   "cell_type": "code",
   "execution_count": 6,
   "id": "f1a9c3c8",
   "metadata": {},
   "outputs": [
    {
     "data": {
      "text/html": [
       "<div>\n",
       "<style scoped>\n",
       "    .dataframe tbody tr th:only-of-type {\n",
       "        vertical-align: middle;\n",
       "    }\n",
       "\n",
       "    .dataframe tbody tr th {\n",
       "        vertical-align: top;\n",
       "    }\n",
       "\n",
       "    .dataframe thead th {\n",
       "        text-align: right;\n",
       "    }\n",
       "</style>\n",
       "<table border=\"1\" class=\"dataframe\">\n",
       "  <thead>\n",
       "    <tr style=\"text-align: right;\">\n",
       "      <th></th>\n",
       "      <th>name</th>\n",
       "      <th>gpa</th>\n",
       "      <th>height</th>\n",
       "      <th>friends</th>\n",
       "      <th>sport</th>\n",
       "      <th>shoes</th>\n",
       "    </tr>\n",
       "  </thead>\n",
       "  <tbody>\n",
       "    <tr>\n",
       "      <th>0</th>\n",
       "      <td>emerson</td>\n",
       "      <td>3.06</td>\n",
       "      <td>65</td>\n",
       "      <td>213</td>\n",
       "      <td>soccer</td>\n",
       "      <td>sneakers</td>\n",
       "    </tr>\n",
       "    <tr>\n",
       "      <th>1</th>\n",
       "      <td>jessie</td>\n",
       "      <td>2.41</td>\n",
       "      <td>61</td>\n",
       "      <td>202</td>\n",
       "      <td>basketball</td>\n",
       "      <td>flip-flops</td>\n",
       "    </tr>\n",
       "    <tr>\n",
       "      <th>2</th>\n",
       "      <td>sawyer</td>\n",
       "      <td>2.96</td>\n",
       "      <td>67</td>\n",
       "      <td>314</td>\n",
       "      <td>tennis</td>\n",
       "      <td>flip-flops</td>\n",
       "    </tr>\n",
       "    <tr>\n",
       "      <th>3</th>\n",
       "      <td>london</td>\n",
       "      <td>3.98</td>\n",
       "      <td>64</td>\n",
       "      <td>436</td>\n",
       "      <td>soccer</td>\n",
       "      <td>sneakers</td>\n",
       "    </tr>\n",
       "    <tr>\n",
       "      <th>4</th>\n",
       "      <td>dakota</td>\n",
       "      <td>3.15</td>\n",
       "      <td>72</td>\n",
       "      <td>307</td>\n",
       "      <td>basketball</td>\n",
       "      <td>sneakers</td>\n",
       "    </tr>\n",
       "    <tr>\n",
       "      <th>5</th>\n",
       "      <td>hayden</td>\n",
       "      <td>3.50</td>\n",
       "      <td>68</td>\n",
       "      <td>335</td>\n",
       "      <td>tennis</td>\n",
       "      <td>flip-flops</td>\n",
       "    </tr>\n",
       "    <tr>\n",
       "      <th>6</th>\n",
       "      <td>charlie</td>\n",
       "      <td>1.10</td>\n",
       "      <td>61</td>\n",
       "      <td>34</td>\n",
       "      <td>baseball</td>\n",
       "      <td>flip-flops</td>\n",
       "    </tr>\n",
       "    <tr>\n",
       "      <th>7</th>\n",
       "      <td>kamryn</td>\n",
       "      <td>2.18</td>\n",
       "      <td>66</td>\n",
       "      <td>200</td>\n",
       "      <td>soccer</td>\n",
       "      <td>sneakers</td>\n",
       "    </tr>\n",
       "  </tbody>\n",
       "</table>\n",
       "</div>"
      ],
      "text/plain": [
       "      name   gpa  height  friends       sport       shoes\n",
       "0  emerson  3.06      65      213      soccer    sneakers\n",
       "1   jessie  2.41      61      202  basketball  flip-flops\n",
       "2   sawyer  2.96      67      314      tennis  flip-flops\n",
       "3   london  3.98      64      436      soccer    sneakers\n",
       "4   dakota  3.15      72      307  basketball    sneakers\n",
       "5   hayden  3.50      68      335      tennis  flip-flops\n",
       "6  charlie  1.10      61       34    baseball  flip-flops\n",
       "7   kamryn  2.18      66      200      soccer    sneakers"
      ]
     },
     "execution_count": 6,
     "metadata": {},
     "output_type": "execute_result"
    }
   ],
   "source": [
    "import pandas as pd\n",
    "import matplotlib.pyplot as plt\n",
    "\n",
    "people = pd.read_csv('people.csv')\n",
    "people"
   ]
  },
  {
   "cell_type": "code",
   "execution_count": 7,
   "id": "4d5d4a42",
   "metadata": {},
   "outputs": [
    {
     "data": {
      "text/plain": [
       "<matplotlib.collections.PathCollection at 0x7fa8f9c12f70>"
      ]
     },
     "execution_count": 7,
     "metadata": {},
     "output_type": "execute_result"
    },
    {
     "data": {
      "image/png": "[encoded data removed]",
      "text/plain": [
       "<Figure size 432x288 with 1 Axes>"
      ]
     },
     "metadata": {
      "needs_background": "light"
     },
     "output_type": "display_data"
    }
   ],
   "source": [
    "plt.scatter(people.friends, people.height)"
   ]
  },
  {
   "cell_type": "code",
   "execution_count": 9,
   "id": "635ebc42",
   "metadata": {},
   "outputs": [
    {
     "data": {
      "text/plain": [
       "Text(0, 0.5, 'height')"
      ]
     },
     "execution_count": 9,
     "metadata": {},
     "output_type": "execute_result"
    },
    {
     "data": {
      "image/png": "[encoded data removed]",
      "text/plain": [
       "<Figure size 432x288 with 1 Axes>"
      ]
     },
     "metadata": {
      "needs_background": "light"
     },
     "output_type": "display_data"
    }
   ],
   "source": [
    "plt.scatter(people.friends, people.height)\n",
    "\n",
    "plt.grid()\n",
    "plt.xlabel('friends')\n",
    "plt.ylabel('height')"
   ]
  },
  {
   "cell_type": "code",
   "execution_count": 10,
   "id": "ee727b43",
   "metadata": {},
   "outputs": [
    {
     "data": {
      "text/plain": [
       "[<matplotlib.lines.Line2D at 0x7fa918224340>]"
      ]
     },
     "execution_count": 10,
     "metadata": {},
     "output_type": "execute_result"
    },
    {
     "data": {
      "image/png": "[encoded data removed]",
      "text/plain": [
       "<Figure size 432x288 with 1 Axes>"
      ]
     },
     "metadata": {
      "needs_background": "light"
     },
     "output_type": "display_data"
    }
   ],
   "source": [
    "import numpy as np\n",
    "\n",
    "xpoints = np.array([400,50])\n",
    "ypoints = np.array([70,61])\n",
    "\n",
    "plt.scatter(people.friends, people.height)\n",
    "plt.grid()\n",
    "plt.xlabel('friends')\n",
    "plt.ylabel('height')\n",
    "\n",
    "plt.plot(xpoints, ypoints)"
   ]
  },
  {
   "cell_type": "code",
   "execution_count": 11,
   "id": "9f4a4e50",
   "metadata": {},
   "outputs": [
    {
     "data": {
      "text/html": [
       "<div>\n",
       "<style scoped>\n",
       "    .dataframe tbody tr th:only-of-type {\n",
       "        vertical-align: middle;\n",
       "    }\n",
       "\n",
       "    .dataframe tbody tr th {\n",
       "        vertical-align: top;\n",
       "    }\n",
       "\n",
       "    .dataframe thead th {\n",
       "        text-align: right;\n",
       "    }\n",
       "</style>\n",
       "<table border=\"1\" class=\"dataframe\">\n",
       "  <thead>\n",
       "    <tr style=\"text-align: right;\">\n",
       "      <th></th>\n",
       "      <th>gpa</th>\n",
       "      <th>height</th>\n",
       "      <th>friends</th>\n",
       "    </tr>\n",
       "  </thead>\n",
       "  <tbody>\n",
       "    <tr>\n",
       "      <th>gpa</th>\n",
       "      <td>1.000000</td>\n",
       "      <td>0.502907</td>\n",
       "      <td>0.955895</td>\n",
       "    </tr>\n",
       "    <tr>\n",
       "      <th>height</th>\n",
       "      <td>0.502907</td>\n",
       "      <td>1.000000</td>\n",
       "      <td>0.511286</td>\n",
       "    </tr>\n",
       "    <tr>\n",
       "      <th>friends</th>\n",
       "      <td>0.955895</td>\n",
       "      <td>0.511286</td>\n",
       "      <td>1.000000</td>\n",
       "    </tr>\n",
       "  </tbody>\n",
       "</table>\n",
       "</div>"
      ],
      "text/plain": [
       "              gpa    height   friends\n",
       "gpa      1.000000  0.502907  0.955895\n",
       "height   0.502907  1.000000  0.511286\n",
       "friends  0.955895  0.511286  1.000000"
      ]
     },
     "execution_count": 11,
     "metadata": {},
     "output_type": "execute_result"
    }
   ],
   "source": [
    "people.corr()"
   ]
  },
  {
   "cell_type": "code",
   "execution_count": 16,
   "id": "2effb1e2",
   "metadata": {},
   "outputs": [
    {
     "data": {
      "image/png": "[encoded data removed]",
      "text/plain": [
       "<Figure size 432x288 with 1 Axes>"
      ]
     },
     "metadata": {
      "needs_background": "light"
     },
     "output_type": "display_data"
    }
   ],
   "source": [
    "import seaborn as sns\n",
    "sns.scatterplot(data=people, x='friends', y='height', hue='shoes').grid()"
   ]
  },
  {
   "cell_type": "code",
   "execution_count": 18,
   "id": "18fdc45b",
   "metadata": {},
   "outputs": [
    {
     "data": {
      "text/plain": [
       "<seaborn.axisgrid.FacetGrid at 0x7fa8f9ed42b0>"
      ]
     },
     "execution_count": 18,
     "metadata": {},
     "output_type": "execute_result"
    },
    {
     "data": {
      "image/png": "[encoded data removed]",
      "text/plain": [
       "<Figure size 440.75x360 with 1 Axes>"
      ]
     },
     "metadata": {
      "needs_background": "light"
     },
     "output_type": "display_data"
    }
   ],
   "source": [
    "sns.lmplot(data=people, x='friends', y='height', hue='shoes')"
   ]
  },
  {
   "cell_type": "code",
   "execution_count": null,
   "id": "9a860cb6",
   "metadata": {},
   "outputs": [],
   "source": []
  }
 ],
 "metadata": {
  "kernelspec": {
   "display_name": "Python 3 (ipykernel)",
   "language": "python",
   "name": "python3"
  },
  "language_info": {
   "codemirror_mode": {
    "name": "ipython",
    "version": 3
   },
   "file_extension": ".py",
   "mimetype": "text/x-python",
   "name": "python",
   "nbconvert_exporter": "python",
   "pygments_lexer": "ipython3",
   "version": "3.9.12"
  }
 },
 "nbformat": 4,
 "nbformat_minor": 5
}
