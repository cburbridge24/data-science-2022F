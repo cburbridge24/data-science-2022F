{
 "cells": [
  {
   "cell_type": "markdown",
   "id": "a3a28689",
   "metadata": {},
   "source": [
    "# Data Science Lesson - Data Structures\n",
    "---\n",
    "**Question: How do we represent our Stick Figure Google Sheet (table) in a Python variable?**\n",
    "\n",
    "### List of Dictionaries\n",
    "\n",
    "Represent each person as a dictionary, and stote them all in a list. Output the list to verify."
   ]
  },
  {
   "cell_type": "code",
   "execution_count": 1,
   "id": "46d98ee3",
   "metadata": {},
   "outputs": [
    {
     "data": {
      "text/plain": [
       "[{'name': 'emerson',\n",
       "  'gpa': 3.06,\n",
       "  'height': 65,\n",
       "  'friends': 213,\n",
       "  'sport': 'soccer',\n",
       "  'shoes': 'sneakers'},\n",
       " {'name': 'jessie',\n",
       "  'gpa': 2.41,\n",
       "  'height': 61,\n",
       "  'friends': 202,\n",
       "  'sport': 'basketball',\n",
       "  'shoes': 'flip-flops'},\n",
       " {'name': 'sawyer',\n",
       "  'gpa': 2.96,\n",
       "  'height': 67,\n",
       "  'friends': 314,\n",
       "  'sport': 'tennis',\n",
       "  'shoes': 'flip-flops'},\n",
       " {'name': 'london',\n",
       "  'gpa': 3.98,\n",
       "  'height': 64,\n",
       "  'friends': 436,\n",
       "  'sport': 'soccer',\n",
       "  'shoes': 'sneakers'},\n",
       " {'name': 'dakota',\n",
       "  'gpa': 3.15,\n",
       "  'height': 72,\n",
       "  'friends': 307,\n",
       "  'sport': 'basketball',\n",
       "  'shoes': 'sneakers'},\n",
       " {'name': 'hayden',\n",
       "  'gpa': 3.5,\n",
       "  'height': 68,\n",
       "  'friends': 335,\n",
       "  'sport': 'tennis',\n",
       "  'shoes': 'flip-flops'},\n",
       " {'name': 'charlie',\n",
       "  'gpa': 1.1,\n",
       "  'height': 61,\n",
       "  'friends': 34,\n",
       "  'sport': 'baseball',\n",
       "  'shoes': 'flip-flops'},\n",
       " {'name': 'kamryn',\n",
       "  'gpa': 2.18,\n",
       "  'height': 66,\n",
       "  'friends': 200,\n",
       "  'sport': 'soccer',\n",
       "  'shoes': 'sneakers'}]"
      ]
     },
     "execution_count": 1,
     "metadata": {},
     "output_type": "execute_result"
    }
   ],
   "source": [
    "people = [\n",
    "    {\"name\":\"emerson\",\n",
    "     \"gpa\":3.06,\n",
    "     \"height\":65,\n",
    "     \"friends\":213,\n",
    "     \"sport\":\"soccer\",\n",
    "     \"shoes\":\"sneakers\"},\n",
    "    {\"name\":\"jessie\",\n",
    "     \"gpa\":2.41,\n",
    "     \"height\":61,\n",
    "     \"friends\":202,\n",
    "     \"sport\":\"basketball\",\n",
    "     \"shoes\":\"flip-flops\"},\n",
    "    {\"name\":\"sawyer\",\n",
    "     \"gpa\":2.96,\n",
    "     \"height\":67,\n",
    "     \"friends\":314,\n",
    "     \"sport\":\"tennis\",\n",
    "     \"shoes\":\"flip-flops\"},\n",
    "    {\"name\":\"london\",\n",
    "     \"gpa\": 3.98,\n",
    "     \"height\":64,\n",
    "     \"friends\":436,\n",
    "     \"sport\":\"soccer\",\n",
    "     \"shoes\":\"sneakers\"},\n",
    "    {\"name\":\"dakota\",\n",
    "     \"gpa\":3.15,\n",
    "     \"height\":72,\n",
    "     \"friends\":307,\n",
    "     \"sport\":\"basketball\",\n",
    "     \"shoes\":\"sneakers\"},\n",
    "    {\"name\":\"hayden\",\n",
    "     \"gpa\":3.50,\n",
    "     \"height\":68,\n",
    "     \"friends\":335,\n",
    "     \"sport\":\"tennis\",\n",
    "     \"shoes\":\"flip-flops\"},\n",
    "    {\"name\":\"charlie\",\n",
    "     \"gpa\":1.1,\n",
    "     \"height\":61,\n",
    "     \"friends\":34,\n",
    "     \"sport\":\"baseball\",\n",
    "     \"shoes\":\"flip-flops\"},\n",
    "    {\"name\":\"kamryn\",\n",
    "     \"gpa\":2.18,\n",
    "     \"height\":66,\n",
    "     \"friends\":200,\n",
    "     \"sport\":\"soccer\",\n",
    "     \"shoes\":\"sneakers\"}]\n",
    "people"
   ]
  },
  {
   "cell_type": "markdown",
   "id": "9dee2d16",
   "metadata": {},
   "source": [
    "What is the mean height of people in our list? First, use pure Python functions (not the statistics module) to calculate this, and output to verify.\n",
    "\n",
    "*Hint: You may want to put all the heights in a list and then use that for your computations.*"
   ]
  },
  {
   "cell_type": "code",
   "execution_count": 10,
   "id": "3525da44",
   "metadata": {},
   "outputs": [
    {
     "data": {
      "text/plain": [
       "65.5"
      ]
     },
     "execution_count": 10,
     "metadata": {},
     "output_type": "execute_result"
    }
   ],
   "source": [
    "heights = []\n",
    "\n",
    "for person in people:\n",
    "    heights.append(person[\"height\"])\n",
    "    \n",
    "sum(heights)/len(heights)"
   ]
  },
  {
   "cell_type": "markdown",
   "id": "bcf0f231",
   "metadata": {},
   "source": [
    "Now, import NumPy (as np) and use its mean function to find the mean of the heights list directly."
   ]
  },
  {
   "cell_type": "code",
   "execution_count": 13,
   "id": "dac4edc5",
   "metadata": {},
   "outputs": [
    {
     "data": {
      "text/plain": [
       "65.5"
      ]
     },
     "execution_count": 13,
     "metadata": {},
     "output_type": "execute_result"
    }
   ],
   "source": [
    "import numpy as np\n",
    "\n",
    "np.mean(heights)"
   ]
  },
  {
   "cell_type": "markdown",
   "id": "25f72f93",
   "metadata": {},
   "source": [
    "## Dictionary of Lists\n",
    "\n",
    "Using a dictionary and key/value pairs, represent each attribute (column) of a person as a key and all the values of each attribute as a list. That is, a dictionary of lists. Output the dict to verify."
   ]
  },
  {
   "cell_type": "code",
   "execution_count": 15,
   "id": "d5dca641",
   "metadata": {},
   "outputs": [
    {
     "ename": "KeyError",
     "evalue": "'heights'",
     "output_type": "error",
     "traceback": [
      "\u001b[0;31m---------------------------------------------------------------------------\u001b[0m",
      "\u001b[0;31mKeyError\u001b[0m                                  Traceback (most recent call last)",
      "Input \u001b[0;32mIn [15]\u001b[0m, in \u001b[0;36m<cell line: 1>\u001b[0;34m()\u001b[0m\n\u001b[1;32m      1\u001b[0m people2 : {\u001b[38;5;124m\"\u001b[39m\u001b[38;5;124mname\u001b[39m\u001b[38;5;124m\"\u001b[39m:[p[\u001b[38;5;124m\"\u001b[39m\u001b[38;5;124mname\u001b[39m\u001b[38;5;124m\"\u001b[39m]\u001b[38;5;28;01mfor\u001b[39;00m p \u001b[38;5;129;01min\u001b[39;00m people],\n\u001b[1;32m      2\u001b[0m            \u001b[38;5;124m\"\u001b[39m\u001b[38;5;124mgpa\u001b[39m\u001b[38;5;124m\"\u001b[39m: [p[\u001b[38;5;124m\"\u001b[39m\u001b[38;5;124mgpa\u001b[39m\u001b[38;5;124m\"\u001b[39m]\u001b[38;5;28;01mfor\u001b[39;00m p \u001b[38;5;129;01min\u001b[39;00m people],\n\u001b[0;32m----> 3\u001b[0m            \u001b[38;5;124m\"\u001b[39m\u001b[38;5;124mheight\u001b[39m\u001b[38;5;124m\"\u001b[39m: [p[\u001b[38;5;124m\"\u001b[39m\u001b[38;5;124mheights\u001b[39m\u001b[38;5;124m\"\u001b[39m]\u001b[38;5;28;01mfor\u001b[39;00m p \u001b[38;5;129;01min\u001b[39;00m people],\n\u001b[1;32m      4\u001b[0m            \u001b[38;5;124m\"\u001b[39m\u001b[38;5;124mfriends\u001b[39m\u001b[38;5;124m\"\u001b[39m: [p[\u001b[38;5;124m\"\u001b[39m\u001b[38;5;124mfriends\u001b[39m\u001b[38;5;124m\"\u001b[39m]\u001b[38;5;28;01mfor\u001b[39;00m p \u001b[38;5;129;01min\u001b[39;00m people],\n\u001b[1;32m      5\u001b[0m            \u001b[38;5;124m\"\u001b[39m\u001b[38;5;124msport\u001b[39m\u001b[38;5;124m\"\u001b[39m: [p[\u001b[38;5;124m\"\u001b[39m\u001b[38;5;124msport\u001b[39m\u001b[38;5;124m\"\u001b[39m]\u001b[38;5;28;01mfor\u001b[39;00m p \u001b[38;5;129;01min\u001b[39;00m people],\n\u001b[1;32m      6\u001b[0m            \u001b[38;5;124m\"\u001b[39m\u001b[38;5;124mshoes\u001b[39m\u001b[38;5;124m\"\u001b[39m: [p[\u001b[38;5;124m\"\u001b[39m\u001b[38;5;124mshoes\u001b[39m\u001b[38;5;124m\"\u001b[39m]\u001b[38;5;28;01mfor\u001b[39;00m p \u001b[38;5;129;01min\u001b[39;00m people]}\n",
      "Input \u001b[0;32mIn [15]\u001b[0m, in \u001b[0;36m<listcomp>\u001b[0;34m(.0)\u001b[0m\n\u001b[1;32m      1\u001b[0m people2 : {\u001b[38;5;124m\"\u001b[39m\u001b[38;5;124mname\u001b[39m\u001b[38;5;124m\"\u001b[39m:[p[\u001b[38;5;124m\"\u001b[39m\u001b[38;5;124mname\u001b[39m\u001b[38;5;124m\"\u001b[39m]\u001b[38;5;28;01mfor\u001b[39;00m p \u001b[38;5;129;01min\u001b[39;00m people],\n\u001b[1;32m      2\u001b[0m            \u001b[38;5;124m\"\u001b[39m\u001b[38;5;124mgpa\u001b[39m\u001b[38;5;124m\"\u001b[39m: [p[\u001b[38;5;124m\"\u001b[39m\u001b[38;5;124mgpa\u001b[39m\u001b[38;5;124m\"\u001b[39m]\u001b[38;5;28;01mfor\u001b[39;00m p \u001b[38;5;129;01min\u001b[39;00m people],\n\u001b[0;32m----> 3\u001b[0m            \u001b[38;5;124m\"\u001b[39m\u001b[38;5;124mheight\u001b[39m\u001b[38;5;124m\"\u001b[39m: [\u001b[43mp\u001b[49m\u001b[43m[\u001b[49m\u001b[38;5;124;43m\"\u001b[39;49m\u001b[38;5;124;43mheights\u001b[39;49m\u001b[38;5;124;43m\"\u001b[39;49m\u001b[43m]\u001b[49m\u001b[38;5;28;01mfor\u001b[39;00m p \u001b[38;5;129;01min\u001b[39;00m people],\n\u001b[1;32m      4\u001b[0m            \u001b[38;5;124m\"\u001b[39m\u001b[38;5;124mfriends\u001b[39m\u001b[38;5;124m\"\u001b[39m: [p[\u001b[38;5;124m\"\u001b[39m\u001b[38;5;124mfriends\u001b[39m\u001b[38;5;124m\"\u001b[39m]\u001b[38;5;28;01mfor\u001b[39;00m p \u001b[38;5;129;01min\u001b[39;00m people],\n\u001b[1;32m      5\u001b[0m            \u001b[38;5;124m\"\u001b[39m\u001b[38;5;124msport\u001b[39m\u001b[38;5;124m\"\u001b[39m: [p[\u001b[38;5;124m\"\u001b[39m\u001b[38;5;124msport\u001b[39m\u001b[38;5;124m\"\u001b[39m]\u001b[38;5;28;01mfor\u001b[39;00m p \u001b[38;5;129;01min\u001b[39;00m people],\n\u001b[1;32m      6\u001b[0m            \u001b[38;5;124m\"\u001b[39m\u001b[38;5;124mshoes\u001b[39m\u001b[38;5;124m\"\u001b[39m: [p[\u001b[38;5;124m\"\u001b[39m\u001b[38;5;124mshoes\u001b[39m\u001b[38;5;124m\"\u001b[39m]\u001b[38;5;28;01mfor\u001b[39;00m p \u001b[38;5;129;01min\u001b[39;00m people]}\n",
      "\u001b[0;31mKeyError\u001b[0m: 'heights'"
     ]
    }
   ],
   "source": [
    "#\n",
    "people2 : {\"name\":[p[\"name\"]for p in people],\n",
    "           \"gpa\": [p[\"gpa\"]for p in people],\n",
    "           \"height\":[p[\"heights\"]for p in people],\n",
    "           \"friends\":[p[\"friends\"]for p in people],\n",
    "           \"sport\": [p[\"sport\"]for p in people],\n",
    "           \"shoes\": [p[\"shoes\"]for p in people]}"
   ]
  },
  {
   "cell_type": "markdown",
   "id": "846bdc27",
   "metadata": {},
   "source": [
    "Now use NumPy to get the mean in one statement."
   ]
  },
  {
   "cell_type": "code",
   "execution_count": null,
   "id": "898bb3cd",
   "metadata": {},
   "outputs": [],
   "source": [
    "np.mean(people2[heights])"
   ]
  },
  {
   "cell_type": "markdown",
   "id": "5f0ed550",
   "metadata": {},
   "source": [
    "**So, which approach should we use? Or is there a better way? Hmmm...**"
   ]
  }
 ],
 "metadata": {
  "kernelspec": {
   "display_name": "Python 3 (ipykernel)",
   "language": "python",
   "name": "python3"
  },
  "language_info": {
   "codemirror_mode": {
    "name": "ipython",
    "version": 3
   },
   "file_extension": ".py",
   "mimetype": "text/x-python",
   "name": "python",
   "nbconvert_exporter": "python",
   "pygments_lexer": "ipython3",
   "version": "3.9.12"
  }
 },
 "nbformat": 4,
 "nbformat_minor": 5
}
