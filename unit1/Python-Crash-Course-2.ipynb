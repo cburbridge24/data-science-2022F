{
 "cells": [
  {
   "cell_type": "markdown",
   "id": "0f8b074c",
   "metadata": {},
   "source": [
    "# Python Crash Course 2!"
   ]
  },
  {
   "cell_type": "markdown",
   "id": "14c0626b",
   "metadata": {},
   "source": [
    "# Booleans"
   ]
  },
  {
   "cell_type": "code",
   "execution_count": 4,
   "id": "d7113690",
   "metadata": {},
   "outputs": [
    {
     "data": {
      "text/plain": [
       "bool"
      ]
     },
     "execution_count": 4,
     "metadata": {},
     "output_type": "execute_result"
    }
   ],
   "source": [
    "type(3+3 == 3*2)"
   ]
  },
  {
   "cell_type": "markdown",
   "id": "c440f436",
   "metadata": {},
   "source": [
    "# Operators"
   ]
  },
  {
   "cell_type": "code",
   "execution_count": 12,
   "id": "0e861ca2",
   "metadata": {},
   "outputs": [
    {
     "data": {
      "text/plain": [
       "20"
      ]
     },
     "execution_count": 12,
     "metadata": {},
     "output_type": "execute_result"
    }
   ],
   "source": [
    "age = 16\n",
    "age += 4\n",
    "age"
   ]
  },
  {
   "cell_type": "code",
   "execution_count": 6,
   "id": "63df278f",
   "metadata": {},
   "outputs": [
    {
     "data": {
      "text/plain": [
       "False"
      ]
     },
     "execution_count": 6,
     "metadata": {},
     "output_type": "execute_result"
    }
   ],
   "source": [
    "age == 12"
   ]
  },
  {
   "cell_type": "code",
   "execution_count": 7,
   "id": "bd973c19",
   "metadata": {},
   "outputs": [
    {
     "data": {
      "text/plain": [
       "True"
      ]
     },
     "execution_count": 7,
     "metadata": {},
     "output_type": "execute_result"
    }
   ],
   "source": [
    "age > 12 and age < 24"
   ]
  },
  {
   "cell_type": "markdown",
   "id": "fe8803a8",
   "metadata": {},
   "source": [
    "# Lists"
   ]
  },
  {
   "cell_type": "code",
   "execution_count": 38,
   "id": "98cc4e68",
   "metadata": {},
   "outputs": [
    {
     "data": {
      "text/plain": [
       "['Honors Lit',\n",
       " 'Data Science',\n",
       " 'History',\n",
       " 'Honors Chem',\n",
       " 'French 4/5',\n",
       " 'Gender Studies',\n",
       " 'Honors PreCalc']"
      ]
     },
     "execution_count": 38,
     "metadata": {},
     "output_type": "execute_result"
    }
   ],
   "source": [
    "courses = [\"Honors Lit\", \"Data Science\", \"History\", \"Honors Chem\", \"French 4/5\", \"Gender Studies\", \"Honors PreCalc\"]\n",
    "courses"
   ]
  },
  {
   "cell_type": "markdown",
   "id": "1f338fbe",
   "metadata": {},
   "source": [
    "## Accessing Items"
   ]
  },
  {
   "cell_type": "code",
   "execution_count": 39,
   "id": "2d5bd7e1",
   "metadata": {},
   "outputs": [
    {
     "name": "stdout",
     "output_type": "stream",
     "text": [
      "Data Science\n"
     ]
    }
   ],
   "source": [
    "print(courses[1])"
   ]
  },
  {
   "cell_type": "markdown",
   "id": "13b8a68e",
   "metadata": {},
   "source": [
    "## Changing Items"
   ]
  },
  {
   "cell_type": "code",
   "execution_count": 40,
   "id": "b4677e5f",
   "metadata": {},
   "outputs": [
    {
     "data": {
      "text/plain": [
       "['Honors Lit',\n",
       " 'Data Science',\n",
       " 'History',\n",
       " 'Honors Chem',\n",
       " 'French 4/5 with Ms. Jayson',\n",
       " 'Gender Studies',\n",
       " 'Honors PreCalc']"
      ]
     },
     "execution_count": 40,
     "metadata": {},
     "output_type": "execute_result"
    }
   ],
   "source": [
    "courses[4] = \"French 4/5 with Ms. Jayson\"\n",
    "courses"
   ]
  },
  {
   "cell_type": "markdown",
   "id": "4e9bd0c8",
   "metadata": {},
   "source": [
    "## Accessing a Range of Items"
   ]
  },
  {
   "cell_type": "code",
   "execution_count": 41,
   "id": "cdc274fa",
   "metadata": {},
   "outputs": [
    {
     "name": "stdout",
     "output_type": "stream",
     "text": [
      "['Honors Lit', 'Data Science']\n"
     ]
    }
   ],
   "source": [
    "print(courses[:2])\n",
    "#i couldn't figure this out so Alexis Emerson helped me"
   ]
  },
  {
   "cell_type": "markdown",
   "id": "9afbc3a1",
   "metadata": {},
   "source": [
    "## Adding to a List"
   ]
  },
  {
   "cell_type": "code",
   "execution_count": 42,
   "id": "ad2dd9e6",
   "metadata": {},
   "outputs": [
    {
     "data": {
      "text/plain": [
       "['Honors Lit',\n",
       " 'Data Science',\n",
       " 'History',\n",
       " 'Honors Chem',\n",
       " 'French 4/5 with Ms. Jayson',\n",
       " 'Gender Studies',\n",
       " 'Honors PreCalc',\n",
       " 'Another Course']"
      ]
     },
     "execution_count": 42,
     "metadata": {},
     "output_type": "execute_result"
    }
   ],
   "source": [
    "courses.append(\"Another Course\")\n",
    "courses"
   ]
  },
  {
   "cell_type": "markdown",
   "id": "eb56c407",
   "metadata": {},
   "source": [
    "## Inserting into a List"
   ]
  },
  {
   "cell_type": "code",
   "execution_count": 43,
   "id": "31f72403",
   "metadata": {},
   "outputs": [
    {
     "data": {
      "text/plain": [
       "['Data Science',\n",
       " 'Honors Literature',\n",
       " 'History',\n",
       " 'Honors Chem',\n",
       " 'French 4/5 with Ms. Jayson',\n",
       " 'Gender Studies',\n",
       " 'Honors PreCalc',\n",
       " 'Another Course']"
      ]
     },
     "execution_count": 43,
     "metadata": {},
     "output_type": "execute_result"
    }
   ],
   "source": [
    "courses.insert(2, \"Honors Literature\")\n",
    "courses.remove(\"Honors Lit\")\n",
    "courses\n",
    "#it was the 3rd position before honors lit left, i'm not sure if i did this right, should it have been 4th position so it would be 3rd when it was removed?"
   ]
  },
  {
   "cell_type": "markdown",
   "id": "df0840f2",
   "metadata": {},
   "source": [
    "## List Looping"
   ]
  },
  {
   "cell_type": "code",
   "execution_count": 44,
   "id": "f778640a",
   "metadata": {},
   "outputs": [
    {
     "name": "stdout",
     "output_type": "stream",
     "text": [
      "Data Science\n",
      "Honors Literature\n",
      "History\n",
      "Honors Chem\n",
      "French 4/5 with Ms. Jayson\n",
      "Gender Studies\n",
      "Honors PreCalc\n",
      "Another Course\n"
     ]
    }
   ],
   "source": [
    "for x in courses:\n",
    "  print(x)"
   ]
  },
  {
   "cell_type": "markdown",
   "id": "84ea549e",
   "metadata": {},
   "source": [
    "## Sorting a List"
   ]
  },
  {
   "cell_type": "code",
   "execution_count": 45,
   "id": "0e5d5ebf",
   "metadata": {},
   "outputs": [
    {
     "data": {
      "text/plain": [
       "['Another Course',\n",
       " 'Data Science',\n",
       " 'French 4/5 with Ms. Jayson',\n",
       " 'Gender Studies',\n",
       " 'History',\n",
       " 'Honors Chem',\n",
       " 'Honors Literature',\n",
       " 'Honors PreCalc']"
      ]
     },
     "execution_count": 45,
     "metadata": {},
     "output_type": "execute_result"
    }
   ],
   "source": [
    "courses.sort()\n",
    "courses"
   ]
  },
  {
   "cell_type": "code",
   "execution_count": 53,
   "id": "459d9652",
   "metadata": {},
   "outputs": [
    {
     "name": "stdout",
     "output_type": "stream",
     "text": [
      "['Another Course', 'Data Science', 'French 4/5 with Ms. Jayson', 'Gender Studies', 'History', 'Honors Chem', 'Honors Literature', 'Honors PreCalc', 'Yet Another Course']\n",
      "['Another Course', 'Data Science', 'French 4/5 with Ms. Jayson', 'Gender Studies', 'History', 'Honors Chem', 'Honors Literature', 'Honors PreCalc']\n"
     ]
    }
   ],
   "source": [
    "courses2 = courses.copy()\n",
    "courses2.append(\"Yet Another Course\")\n",
    "print(courses2)\n",
    "print(courses)"
   ]
  },
  {
   "cell_type": "markdown",
   "id": "4a61781f",
   "metadata": {},
   "source": [
    "## Other List Methods"
   ]
  },
  {
   "cell_type": "code",
   "execution_count": 56,
   "id": "a9e0da90",
   "metadata": {},
   "outputs": [
    {
     "data": {
      "text/plain": [
       "['Another Course',\n",
       " 'Data Science',\n",
       " 'French 4/5 with Ms. Jayson',\n",
       " 'Gender Studies',\n",
       " 'History',\n",
       " 'Honors Chem',\n",
       " 'Honors Literature',\n",
       " 'Honors PreCalc']"
      ]
     },
     "execution_count": 56,
     "metadata": {},
     "output_type": "execute_result"
    }
   ],
   "source": [
    "courses.reverse()\n",
    "courses"
   ]
  },
  {
   "cell_type": "markdown",
   "id": "ab91543c",
   "metadata": {},
   "source": [
    "## Tuples"
   ]
  },
  {
   "cell_type": "code",
   "execution_count": 57,
   "id": "cc3c8701",
   "metadata": {},
   "outputs": [
    {
     "data": {
      "text/plain": [
       "('Sunday', 'Monday', 'Tuesday', 'Wednesday', 'Thursday', 'Friday', 'Saturday')"
      ]
     },
     "execution_count": 57,
     "metadata": {},
     "output_type": "execute_result"
    }
   ],
   "source": [
    "days_of_week = ('Sunday', 'Monday', 'Tuesday', 'Wednesday', 'Thursday', 'Friday', 'Saturday')\n",
    "days_of_week"
   ]
  },
  {
   "cell_type": "markdown",
   "id": "a2d38e3b",
   "metadata": {},
   "source": [
    "## Sets"
   ]
  },
  {
   "cell_type": "code",
   "execution_count": 59,
   "id": "c8962fa6",
   "metadata": {},
   "outputs": [
    {
     "data": {
      "text/plain": [
       "{'apple', 'banana', 'cherry', 'kiwi'}"
      ]
     },
     "execution_count": 59,
     "metadata": {},
     "output_type": "execute_result"
    }
   ],
   "source": [
    "types_of_fruit = {\"apple\", \"banana\", \"cherry\"}\n",
    "types_of_fruit.add(\"kiwi\")\n",
    "types_of_fruit"
   ]
  },
  {
   "cell_type": "markdown",
   "id": "70363d4a",
   "metadata": {},
   "source": [
    "## Dictionaries"
   ]
  },
  {
   "cell_type": "code",
   "execution_count": 4,
   "id": "96d21717",
   "metadata": {},
   "outputs": [],
   "source": [
    "car1 = {\n",
    "    \"brand\" : \"Ford\",\n",
    "    \"model\" : \"Mustang\",\n",
    "    \"year\" : 1964\n",
    "}"
   ]
  },
  {
   "cell_type": "code",
   "execution_count": 6,
   "id": "571dc37c",
   "metadata": {},
   "outputs": [
    {
     "name": "stdout",
     "output_type": "stream",
     "text": [
      "Mustang\n"
     ]
    }
   ],
   "source": [
    "print(car1[\"model\"])"
   ]
  },
  {
   "cell_type": "code",
   "execution_count": 7,
   "id": "d2920e43",
   "metadata": {},
   "outputs": [
    {
     "name": "stdout",
     "output_type": "stream",
     "text": [
      "{'brand': 'Ford', 'model': 'Mustang', 'year': 1964, 'color': 'pink'}\n"
     ]
    }
   ],
   "source": [
    "car1[\"color\"] = \"pink\"\n",
    "print(car1)"
   ]
  },
  {
   "cell_type": "markdown",
   "id": "c6de1622",
   "metadata": {},
   "source": [
    "## Looping thru Dictionaries"
   ]
  },
  {
   "cell_type": "code",
   "execution_count": 13,
   "id": "123feeda",
   "metadata": {},
   "outputs": [
    {
     "name": "stdout",
     "output_type": "stream",
     "text": [
      "brand\n",
      "model\n",
      "year\n",
      "color\n",
      "Ford\n",
      "Mustang\n",
      "1964\n",
      "pink\n"
     ]
    }
   ],
   "source": [
    "for x in car1.keys():\n",
    "  print(x)\n",
    "\n",
    "for y in car1.values():\n",
    "  print(y)"
   ]
  },
  {
   "cell_type": "code",
   "execution_count": 11,
   "id": "94a23d94",
   "metadata": {},
   "outputs": [
    {
     "name": "stdout",
     "output_type": "stream",
     "text": [
      "brand Ford\n",
      "model Mustang\n",
      "year 1964\n",
      "color pink\n"
     ]
    }
   ],
   "source": [
    "for x, y in car1.items():\n",
    "  print(x, y)"
   ]
  },
  {
   "cell_type": "markdown",
   "id": "97e5e207",
   "metadata": {},
   "source": [
    "## Loops"
   ]
  },
  {
   "cell_type": "code",
   "execution_count": 14,
   "id": "be88339b",
   "metadata": {},
   "outputs": [
    {
     "name": "stdout",
     "output_type": "stream",
     "text": [
      "13\n",
      "14\n",
      "15\n",
      "16\n",
      "17\n",
      "18\n",
      "19\n"
     ]
    }
   ],
   "source": [
    "for x in range(13,20):\n",
    "  print(x)"
   ]
  },
  {
   "cell_type": "markdown",
   "id": "e27ecd6b",
   "metadata": {},
   "source": [
    "## Conditionals"
   ]
  },
  {
   "cell_type": "code",
   "execution_count": 35,
   "id": "d4e9be08",
   "metadata": {},
   "outputs": [
    {
     "name": "stdout",
     "output_type": "stream",
     "text": [
      "B\n"
     ]
    }
   ],
   "source": [
    "grade = 80\n",
    "if 100 > grade >= 90:\n",
    "  print(\"A\")\n",
    "elif 90 > grade:\n",
    "  print(\"B\")"
   ]
  },
  {
   "cell_type": "code",
   "execution_count": 36,
   "id": "71eae270",
   "metadata": {},
   "outputs": [
    {
     "name": "stdout",
     "output_type": "stream",
     "text": [
      "B\n"
     ]
    }
   ],
   "source": [
    "print(\"A\") if grade >= 90 else print(\"B\") if 90 > grade >= 80 else print(\"Neither\")"
   ]
  },
  {
   "cell_type": "markdown",
   "id": "6f21d941",
   "metadata": {},
   "source": [
    "## Functions"
   ]
  },
  {
   "cell_type": "code",
   "execution_count": 22,
   "id": "00ef3620",
   "metadata": {},
   "outputs": [
    {
     "name": "stdout",
     "output_type": "stream",
     "text": [
      "24\n"
     ]
    }
   ],
   "source": [
    "def changer(x):\n",
    "  return (x // 2) + 7\n",
    "\n",
    "print(changer(35))"
   ]
  },
  {
   "cell_type": "code",
   "execution_count": null,
   "id": "c3b1c78e",
   "metadata": {},
   "outputs": [],
   "source": []
  }
 ],
 "metadata": {
  "kernelspec": {
   "display_name": "Python 3 (ipykernel)",
   "language": "python",
   "name": "python3"
  },
  "language_info": {
   "codemirror_mode": {
    "name": "ipython",
    "version": 3
   },
   "file_extension": ".py",
   "mimetype": "text/x-python",
   "name": "python",
   "nbconvert_exporter": "python",
   "pygments_lexer": "ipython3",
   "version": "3.9.12"
  }
 },
 "nbformat": 4,
 "nbformat_minor": 5
}
