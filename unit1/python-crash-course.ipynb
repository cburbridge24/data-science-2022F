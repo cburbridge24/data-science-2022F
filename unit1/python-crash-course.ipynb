{
 "cells": [
  {
   "cell_type": "markdown",
   "id": "fc457d93",
   "metadata": {},
   "source": [
    "# Python Crash Course"
   ]
  },
  {
   "cell_type": "markdown",
   "id": "a609a438",
   "metadata": {},
   "source": [
    "Today I had literature with dr. trout which was good and we talked about a book yay"
   ]
  },
  {
   "cell_type": "markdown",
   "id": "f9f628e6",
   "metadata": {},
   "source": [
    "## now i have data science class with mr. gorton"
   ]
  },
  {
   "cell_type": "markdown",
   "id": "d9b77936",
   "metadata": {},
   "source": [
    "###### :)"
   ]
  },
  {
   "cell_type": "markdown",
   "id": "307f17e5",
   "metadata": {},
   "source": [
    "I have a thought which is:\n",
    "\n",
    "> I wonder what's for lunch today. I am hungry"
   ]
  },
  {
   "cell_type": "markdown",
   "id": "0884c9e5",
   "metadata": {},
   "source": [
    "I hope it is \n",
    "1. grilled cheese\n",
    "* with tomato soup\n",
    "2. or pancakes would be nice"
   ]
  },
  {
   "cell_type": "markdown",
   "id": "9f7c45de",
   "metadata": {},
   "source": [
    "# i love grilled cheese. it is so good. i want some."
   ]
  },
  {
   "cell_type": "markdown",
   "id": "27476b3f",
   "metadata": {},
   "source": [
    "i hope taylor swift releases a single for her new album today "
   ]
  },
  {
   "cell_type": "markdown",
   "id": "a7495793",
   "metadata": {},
   "source": [
    "hi"
   ]
  },
  {
   "cell_type": "code",
   "execution_count": null,
   "id": "83fcd1ab",
   "metadata": {},
   "outputs": [],
   "source": []
  }
 ],
 "metadata": {
  "kernelspec": {
   "display_name": "Python 3 (ipykernel)",
   "language": "python",
   "name": "python3"
  },
  "language_info": {
   "codemirror_mode": {
    "name": "ipython",
    "version": 3
   },
   "file_extension": ".py",
   "mimetype": "text/x-python",
   "name": "python",
   "nbconvert_exporter": "python",
   "pygments_lexer": "ipython3",
   "version": "3.9.12"
  }
 },
 "nbformat": 4,
 "nbformat_minor": 5
}
