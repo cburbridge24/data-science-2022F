{
 "cells": [
  {
   "cell_type": "markdown",
   "id": "0f8b074c",
   "metadata": {},
   "source": [
    "# Python Crash Course 2!"
   ]
  },
  {
   "cell_type": "markdown",
   "id": "14c0626b",
   "metadata": {},
   "source": [
    "# Booleans"
   ]
  },
  {
   "cell_type": "code",
   "execution_count": 4,
   "id": "d7113690",
   "metadata": {},
   "outputs": [
    {
     "data": {
      "text/plain": [
       "bool"
      ]
     },
     "execution_count": 4,
     "metadata": {},
     "output_type": "execute_result"
    }
   ],
   "source": [
    "type(3+3 == 3*2)"
   ]
  },
  {
   "cell_type": "markdown",
   "id": "c440f436",
   "metadata": {},
   "source": [
    "# Operators"
   ]
  },
  {
   "cell_type": "code",
   "execution_count": 12,
   "id": "0e861ca2",
   "metadata": {},
   "outputs": [
    {
     "data": {
      "text/plain": [
       "20"
      ]
     },
     "execution_count": 12,
     "metadata": {},
     "output_type": "execute_result"
    }
   ],
   "source": [
    "age = 16\n",
    "age += 4\n",
    "age"
   ]
  },
  {
   "cell_type": "code",
   "execution_count": 6,
   "id": "63df278f",
   "metadata": {},
   "outputs": [
    {
     "data": {
      "text/plain": [
       "False"
      ]
     },
     "execution_count": 6,
     "metadata": {},
     "output_type": "execute_result"
    }
   ],
   "source": [
    "age == 12"
   ]
  },
  {
   "cell_type": "code",
   "execution_count": 7,
   "id": "bd973c19",
   "metadata": {},
   "outputs": [
    {
     "data": {
      "text/plain": [
       "True"
      ]
     },
     "execution_count": 7,
     "metadata": {},
     "output_type": "execute_result"
    }
   ],
   "source": [
    "age > 12 and age < 24"
   ]
  },
  {
   "cell_type": "markdown",
   "id": "fe8803a8",
   "metadata": {},
   "source": [
    "# Lists"
   ]
  },
  {
   "cell_type": "code",
   "execution_count": 13,
   "id": "98cc4e68",
   "metadata": {},
   "outputs": [
    {
     "data": {
      "text/plain": [
       "['Honors Lit',\n",
       " 'Data Science',\n",
       " 'History',\n",
       " 'Honors Chem',\n",
       " 'French 4/5',\n",
       " 'Gender Studies',\n",
       " 'Honors PreCalc']"
      ]
     },
     "execution_count": 13,
     "metadata": {},
     "output_type": "execute_result"
    }
   ],
   "source": [
    "courses = [\"Honors Lit\", \"Data Science\", \"History\", \"Honors Chem\", \"French 4/5\", \"Gender Studies\", \"Honors PreCalc\"]\n",
    "courses"
   ]
  },
  {
   "cell_type": "markdown",
   "id": "1f338fbe",
   "metadata": {},
   "source": [
    "# Accessing Items"
   ]
  },
  {
   "cell_type": "code",
   "execution_count": null,
   "id": "2d5bd7e1",
   "metadata": {},
   "outputs": [],
   "source": []
  },
  {
   "cell_type": "code",
   "execution_count": null,
   "id": "cd13e836",
   "metadata": {},
   "outputs": [],
   "source": []
  }
 ],
 "metadata": {
  "kernelspec": {
   "display_name": "Python 3 (ipykernel)",
   "language": "python",
   "name": "python3"
  },
  "language_info": {
   "codemirror_mode": {
    "name": "ipython",
    "version": 3
   },
   "file_extension": ".py",
   "mimetype": "text/x-python",
   "name": "python",
   "nbconvert_exporter": "python",
   "pygments_lexer": "ipython3",
   "version": "3.9.12"
  }
 },
 "nbformat": 4,
 "nbformat_minor": 5
}
