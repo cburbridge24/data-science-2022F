{
 "cells": [
  {
   "cell_type": "markdown",
   "id": "0f8b074c",
   "metadata": {},
   "source": [
    "# Python Crash Course 2!"
   ]
  },
  {
   "cell_type": "markdown",
   "id": "14c0626b",
   "metadata": {},
   "source": [
    "# Booleans"
   ]
  },
  {
   "cell_type": "code",
   "execution_count": 4,
   "id": "d7113690",
   "metadata": {},
   "outputs": [
    {
     "data": {
      "text/plain": [
       "bool"
      ]
     },
     "execution_count": 4,
     "metadata": {},
     "output_type": "execute_result"
    }
   ],
   "source": [
    "type(3+3 == 3*2)"
   ]
  },
  {
   "cell_type": "markdown",
   "id": "c440f436",
   "metadata": {},
   "source": [
    "# Operators"
   ]
  },
  {
   "cell_type": "code",
   "execution_count": 12,
   "id": "0e861ca2",
   "metadata": {},
   "outputs": [
    {
     "data": {
      "text/plain": [
       "20"
      ]
     },
     "execution_count": 12,
     "metadata": {},
     "output_type": "execute_result"
    }
   ],
   "source": [
    "age = 16\n",
    "age += 4\n",
    "age"
   ]
  },
  {
   "cell_type": "code",
   "execution_count": 6,
   "id": "63df278f",
   "metadata": {},
   "outputs": [
    {
     "data": {
      "text/plain": [
       "False"
      ]
     },
     "execution_count": 6,
     "metadata": {},
     "output_type": "execute_result"
    }
   ],
   "source": [
    "age == 12"
   ]
  },
  {
   "cell_type": "code",
   "execution_count": 7,
   "id": "bd973c19",
   "metadata": {},
   "outputs": [
    {
     "data": {
      "text/plain": [
       "True"
      ]
     },
     "execution_count": 7,
     "metadata": {},
     "output_type": "execute_result"
    }
   ],
   "source": [
    "age > 12 and age < 24"
   ]
  },
  {
   "cell_type": "markdown",
   "id": "fe8803a8",
   "metadata": {},
   "source": [
    "# Lists"
   ]
  },
  {
   "cell_type": "code",
   "execution_count": 38,
   "id": "98cc4e68",
   "metadata": {},
   "outputs": [
    {
     "data": {
      "text/plain": [
       "['Honors Lit',\n",
       " 'Data Science',\n",
       " 'History',\n",
       " 'Honors Chem',\n",
       " 'French 4/5',\n",
       " 'Gender Studies',\n",
       " 'Honors PreCalc']"
      ]
     },
     "execution_count": 38,
     "metadata": {},
     "output_type": "execute_result"
    }
   ],
   "source": [
    "courses = [\"Honors Lit\", \"Data Science\", \"History\", \"Honors Chem\", \"French 4/5\", \"Gender Studies\", \"Honors PreCalc\"]\n",
    "courses"
   ]
  },
  {
   "cell_type": "markdown",
   "id": "1f338fbe",
   "metadata": {},
   "source": [
    "## Accessing Items"
   ]
  },
  {
   "cell_type": "code",
   "execution_count": 39,
   "id": "2d5bd7e1",
   "metadata": {},
   "outputs": [
    {
     "name": "stdout",
     "output_type": "stream",
     "text": [
      "Data Science\n"
     ]
    }
   ],
   "source": [
    "print(courses[1])"
   ]
  },
  {
   "cell_type": "markdown",
   "id": "13b8a68e",
   "metadata": {},
   "source": [
    "## Changing Items"
   ]
  },
  {
   "cell_type": "code",
   "execution_count": 40,
   "id": "b4677e5f",
   "metadata": {},
   "outputs": [
    {
     "data": {
      "text/plain": [
       "['Honors Lit',\n",
       " 'Data Science',\n",
       " 'History',\n",
       " 'Honors Chem',\n",
       " 'French 4/5 with Ms. Jayson',\n",
       " 'Gender Studies',\n",
       " 'Honors PreCalc']"
      ]
     },
     "execution_count": 40,
     "metadata": {},
     "output_type": "execute_result"
    }
   ],
   "source": [
    "courses[4] = \"French 4/5 with Ms. Jayson\"\n",
    "courses"
   ]
  },
  {
   "cell_type": "markdown",
   "id": "4e9bd0c8",
   "metadata": {},
   "source": [
    "## Accessing a Range of Items"
   ]
  },
  {
   "cell_type": "code",
   "execution_count": 41,
   "id": "cdc274fa",
   "metadata": {},
   "outputs": [
    {
     "name": "stdout",
     "output_type": "stream",
     "text": [
      "['Honors Lit', 'Data Science']\n"
     ]
    }
   ],
   "source": [
    "print(courses[:2])\n",
    "#i couldn't figure this out so Alexis Emerson helped me"
   ]
  },
  {
   "cell_type": "markdown",
   "id": "9afbc3a1",
   "metadata": {},
   "source": [
    "## Adding to a List"
   ]
  },
  {
   "cell_type": "code",
   "execution_count": 42,
   "id": "ad2dd9e6",
   "metadata": {},
   "outputs": [
    {
     "data": {
      "text/plain": [
       "['Honors Lit',\n",
       " 'Data Science',\n",
       " 'History',\n",
       " 'Honors Chem',\n",
       " 'French 4/5 with Ms. Jayson',\n",
       " 'Gender Studies',\n",
       " 'Honors PreCalc',\n",
       " 'Another Course']"
      ]
     },
     "execution_count": 42,
     "metadata": {},
     "output_type": "execute_result"
    }
   ],
   "source": [
    "courses.append(\"Another Course\")\n",
    "courses"
   ]
  },
  {
   "cell_type": "markdown",
   "id": "eb56c407",
   "metadata": {},
   "source": [
    "## Inserting into a List"
   ]
  },
  {
   "cell_type": "code",
   "execution_count": 43,
   "id": "31f72403",
   "metadata": {},
   "outputs": [
    {
     "data": {
      "text/plain": [
       "['Data Science',\n",
       " 'Honors Literature',\n",
       " 'History',\n",
       " 'Honors Chem',\n",
       " 'French 4/5 with Ms. Jayson',\n",
       " 'Gender Studies',\n",
       " 'Honors PreCalc',\n",
       " 'Another Course']"
      ]
     },
     "execution_count": 43,
     "metadata": {},
     "output_type": "execute_result"
    }
   ],
   "source": [
    "courses.insert(2, \"Honors Literature\")\n",
    "courses.remove(\"Honors Lit\")\n",
    "courses\n",
    "#it was the third position before honors lit left, i'm not sure if i did this right, should it have been fourth position so it would be third when it was removed?"
   ]
  },
  {
   "cell_type": "markdown",
   "id": "df0840f2",
   "metadata": {},
   "source": [
    "## List Looping"
   ]
  },
  {
   "cell_type": "code",
   "execution_count": 44,
   "id": "f778640a",
   "metadata": {},
   "outputs": [
    {
     "name": "stdout",
     "output_type": "stream",
     "text": [
      "Data Science\n",
      "Honors Literature\n",
      "History\n",
      "Honors Chem\n",
      "French 4/5 with Ms. Jayson\n",
      "Gender Studies\n",
      "Honors PreCalc\n",
      "Another Course\n"
     ]
    }
   ],
   "source": [
    "for x in courses:\n",
    "  print(x)"
   ]
  },
  {
   "cell_type": "markdown",
   "id": "84ea549e",
   "metadata": {},
   "source": [
    "## Sorting a List"
   ]
  },
  {
   "cell_type": "code",
   "execution_count": 45,
   "id": "0e5d5ebf",
   "metadata": {},
   "outputs": [
    {
     "data": {
      "text/plain": [
       "['Another Course',\n",
       " 'Data Science',\n",
       " 'French 4/5 with Ms. Jayson',\n",
       " 'Gender Studies',\n",
       " 'History',\n",
       " 'Honors Chem',\n",
       " 'Honors Literature',\n",
       " 'Honors PreCalc']"
      ]
     },
     "execution_count": 45,
     "metadata": {},
     "output_type": "execute_result"
    }
   ],
   "source": [
    "courses.sort()\n",
    "courses"
   ]
  },
  {
   "cell_type": "code",
   "execution_count": 53,
   "id": "459d9652",
   "metadata": {},
   "outputs": [
    {
     "name": "stdout",
     "output_type": "stream",
     "text": [
      "['Another Course', 'Data Science', 'French 4/5 with Ms. Jayson', 'Gender Studies', 'History', 'Honors Chem', 'Honors Literature', 'Honors PreCalc', 'Yet Another Course']\n",
      "['Another Course', 'Data Science', 'French 4/5 with Ms. Jayson', 'Gender Studies', 'History', 'Honors Chem', 'Honors Literature', 'Honors PreCalc']\n"
     ]
    }
   ],
   "source": [
    "courses2 = courses.copy()\n",
    "courses2.append(\"Yet Another Course\")\n",
    "print(courses2)\n",
    "print(courses)"
   ]
  },
  {
   "cell_type": "markdown",
   "id": "4a61781f",
   "metadata": {},
   "source": [
    "## Other List Methods"
   ]
  },
  {
   "cell_type": "code",
   "execution_count": 56,
   "id": "a9e0da90",
   "metadata": {},
   "outputs": [
    {
     "data": {
      "text/plain": [
       "['Another Course',\n",
       " 'Data Science',\n",
       " 'French 4/5 with Ms. Jayson',\n",
       " 'Gender Studies',\n",
       " 'History',\n",
       " 'Honors Chem',\n",
       " 'Honors Literature',\n",
       " 'Honors PreCalc']"
      ]
     },
     "execution_count": 56,
     "metadata": {},
     "output_type": "execute_result"
    }
   ],
   "source": [
    "courses.reverse()\n",
    "courses"
   ]
  },
  {
   "cell_type": "markdown",
   "id": "ab91543c",
   "metadata": {},
   "source": [
    "## Tuples"
   ]
  },
  {
   "cell_type": "code",
   "execution_count": 57,
   "id": "cc3c8701",
   "metadata": {},
   "outputs": [
    {
     "data": {
      "text/plain": [
       "('Sunday', 'Monday', 'Tuesday', 'Wednesday', 'Thursday', 'Friday', 'Saturday')"
      ]
     },
     "execution_count": 57,
     "metadata": {},
     "output_type": "execute_result"
    }
   ],
   "source": [
    "days_of_week = ('Sunday', 'Monday', 'Tuesday', 'Wednesday', 'Thursday', 'Friday', 'Saturday')\n",
    "days_of_week"
   ]
  },
  {
   "cell_type": "markdown",
   "id": "a2d38e3b",
   "metadata": {},
   "source": [
    "## Sets"
   ]
  },
  {
   "cell_type": "code",
   "execution_count": 59,
   "id": "c8962fa6",
   "metadata": {},
   "outputs": [
    {
     "data": {
      "text/plain": [
       "{'apple', 'banana', 'cherry', 'kiwi'}"
      ]
     },
     "execution_count": 59,
     "metadata": {},
     "output_type": "execute_result"
    }
   ],
   "source": [
    "types_of_fruit = {\"apple\", \"banana\", \"cherry\"}\n",
    "types_of_fruit.add(\"kiwi\")\n",
    "types_of_fruit"
   ]
  },
  {
   "cell_type": "code",
   "execution_count": null,
   "id": "032784e0",
   "metadata": {},
   "outputs": [],
   "source": []
  }
 ],
 "metadata": {
  "kernelspec": {
   "display_name": "Python 3 (ipykernel)",
   "language": "python",
   "name": "python3"
  },
  "language_info": {
   "codemirror_mode": {
    "name": "ipython",
    "version": 3
   },
   "file_extension": ".py",
   "mimetype": "text/x-python",
   "name": "python",
   "nbconvert_exporter": "python",
   "pygments_lexer": "ipython3",
   "version": "3.9.12"
  }
 },
 "nbformat": 4,
 "nbformat_minor": 5
}
